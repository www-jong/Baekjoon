{
 "cells": [
  {
   "cell_type": "code",
   "execution_count": 12,
   "id": "1aed6d1d",
   "metadata": {},
   "outputs": [
    {
     "name": "stdout",
     "output_type": "stream",
     "text": [
      "ddz=z=\n",
      "3\n"
     ]
    }
   ],
   "source": [
    "arr=list(input())\n",
    "count=0\n",
    "i=0\n",
    "l1=['c=','c-','d-','lj','nj','s=','z=']\n",
    "while True:\n",
    "    if ''.join(arr[i:i+2]) in l1:\n",
    "        count+=1\n",
    "        i+=2\n",
    "    elif ''.join(arr[i:i+3])=='dz=':\n",
    "        count+=1\n",
    "        i+=3\n",
    "    else:\n",
    "        count+=1\n",
    "        i+=1\n",
    "    if i==len(arr):\n",
    "        print(count)\n",
    "        break"
   ]
  },
  {
   "cell_type": "code",
   "execution_count": 10,
   "id": "a42d01a0",
   "metadata": {},
   "outputs": [
    {
     "name": "stdout",
     "output_type": "stream",
     "text": [
      "ab\n"
     ]
    }
   ],
   "source": [
    "ar=['a','b','c']\n",
    "print(''.join(ar[0:2]))"
   ]
  },
  {
   "cell_type": "code",
   "execution_count": null,
   "id": "9cd1aee4",
   "metadata": {
    "lines_to_next_cell": 2
   },
   "outputs": [],
   "source": []
  }
 ],
 "metadata": {
  "jupytext": {
   "formats": "ipynb,py:light"
  },
  "kernelspec": {
   "display_name": "Python 3",
   "language": "python",
   "name": "python3"
  },
  "language_info": {
   "codemirror_mode": {
    "name": "ipython",
    "version": 3
   },
   "file_extension": ".py",
   "mimetype": "text/x-python",
   "name": "python",
   "nbconvert_exporter": "python",
   "pygments_lexer": "ipython3",
   "version": "3.8.8"
  }
 },
 "nbformat": 4,
 "nbformat_minor": 5
}
