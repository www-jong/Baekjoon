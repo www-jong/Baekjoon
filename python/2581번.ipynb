{
 "cells": [
  {
   "cell_type": "code",
   "execution_count": 6,
   "id": "1aed6d1d",
   "metadata": {
    "lines_to_next_cell": 2
   },
   "outputs": [
    {
     "name": "stdout",
     "output_type": "stream",
     "text": [
      "64\n",
      "65\n",
      "-1\n"
     ]
    }
   ],
   "source": [
    "m=int(input());n=int(input())\n",
    "count=0\n",
    "s_sum=0\n",
    "cc=0\n",
    "for i in range(m,n+1):\n",
    "    ch=0\n",
    "    for j in range(2,i//2+1):\n",
    "        if i%j==0:\n",
    "            ch=1\n",
    "            break\n",
    "    if ch==0 and i!=1:\n",
    "        s_sum+=i\n",
    "        if cc==0:\n",
    "            count=i\n",
    "            cc=1\n",
    "if count==0:\n",
    "    print(\"-1\")\n",
    "else:\n",
    "    print(\"%d\\n%d\"%(s_sum,count))"
   ]
  },
  {
   "cell_type": "markdown",
   "id": "d516a848",
   "metadata": {},
   "source": []
  }
 ],
 "metadata": {
  "jupytext": {
   "encoding": "# -*- coding: utf-8 -*-",
   "formats": "ipynb,py:light"
  },
  "kernelspec": {
   "display_name": "Python 3",
   "language": "python",
   "name": "python3"
  },
  "language_info": {
   "codemirror_mode": {
    "name": "ipython",
    "version": 3
   },
   "file_extension": ".py",
   "mimetype": "text/x-python",
   "name": "python",
   "nbconvert_exporter": "python",
   "pygments_lexer": "ipython3",
   "version": "3.8.8"
  }
 },
 "nbformat": 4,
 "nbformat_minor": 5
}
