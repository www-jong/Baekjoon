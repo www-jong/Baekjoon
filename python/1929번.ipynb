{
 "cells": [
  {
   "cell_type": "code",
   "execution_count": 32,
   "id": "1aed6d1d",
   "metadata": {
    "lines_to_next_cell": 2
   },
   "outputs": [
    {
     "name": "stdout",
     "output_type": "stream",
     "text": [
      "2 2\n",
      "2\n"
     ]
    }
   ],
   "source": [
    "m,n=map(int,input().split())\n",
    "arr=[1 for i in range(n+1)]\n",
    "for i in range(m,n+1):\n",
    "    ch=0\n",
    "    if arr[i]==0:\n",
    "        continue\n",
    "    elif arr[i]==1:\n",
    "        for j in range(2,int(i**0.5)+1):\n",
    "            if i%j==0:\n",
    "                ch=1\n",
    "                f=i\n",
    "                while f<=n:\n",
    "                    arr[f]=0\n",
    "                    f+=f\n",
    "                break\n",
    "for i in range(m,n+1):\n",
    "    if arr[i]==1 and i!=1:\n",
    "        print(i)\n",
    "            \n",
    "    "
   ]
  }
 ],
 "metadata": {
  "jupytext": {
   "encoding": "# -*- coding: utf-8 -*-",
   "formats": "ipynb,py:light"
  },
  "kernelspec": {
   "display_name": "Python 3",
   "language": "python",
   "name": "python3"
  },
  "language_info": {
   "codemirror_mode": {
    "name": "ipython",
    "version": 3
   },
   "file_extension": ".py",
   "mimetype": "text/x-python",
   "name": "python",
   "nbconvert_exporter": "python",
   "pygments_lexer": "ipython3",
   "version": "3.8.8"
  }
 },
 "nbformat": 4,
 "nbformat_minor": 5
}
