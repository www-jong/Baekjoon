{
 "cells": [
  {
   "cell_type": "code",
   "execution_count": 16,
   "id": "1aed6d1d",
   "metadata": {},
   "outputs": [
    {
     "name": "stdout",
     "output_type": "stream",
     "text": [
      "UNUCIC\n",
      "36\n"
     ]
    }
   ],
   "source": [
    "a=list(input())\n",
    "b=[]\n",
    "for i in a:\n",
    "    n=ord(i)-65\n",
    "    if n<3:\n",
    "        b.append(3)\n",
    "    elif n<6:\n",
    "        b.append(4)\n",
    "    elif n<9:\n",
    "        b.append(5)\n",
    "    elif n<12:\n",
    "        b.append(6)\n",
    "    elif n<15:\n",
    "        b.append(7)\n",
    "    elif n<19:\n",
    "        b.append(8)\n",
    "    elif n<22:\n",
    "        b.append(9)\n",
    "    elif n<26:\n",
    "        b.append(10)\n",
    "print(sum(b))\n",
    "\n",
    "#숏코딩 \n",
    "#print(sum(5*min(ord(x),88)//16-17for x in input()))\n",
    "# A~Z : 65~90"
   ]
  },
  {
   "cell_type": "code",
   "execution_count": null,
   "id": "a42d01a0",
   "metadata": {},
   "outputs": [],
   "source": []
  },
  {
   "cell_type": "code",
   "execution_count": null,
   "id": "9cd1aee4",
   "metadata": {
    "lines_to_next_cell": 2
   },
   "outputs": [],
   "source": []
  }
 ],
 "metadata": {
  "jupytext": {
   "formats": "ipynb,py:light"
  },
  "kernelspec": {
   "display_name": "Python 3",
   "language": "python",
   "name": "python3"
  },
  "language_info": {
   "codemirror_mode": {
    "name": "ipython",
    "version": 3
   },
   "file_extension": ".py",
   "mimetype": "text/x-python",
   "name": "python",
   "nbconvert_exporter": "python",
   "pygments_lexer": "ipython3",
   "version": "3.8.8"
  }
 },
 "nbformat": 4,
 "nbformat_minor": 5
}
