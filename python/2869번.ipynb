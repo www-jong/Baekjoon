{
 "cells": [
  {
   "cell_type": "code",
   "execution_count": 42,
   "id": "1aed6d1d",
   "metadata": {},
   "outputs": [
    {
     "name": "stdout",
     "output_type": "stream",
     "text": [
      "2 1 2\n",
      "1\n"
     ]
    }
   ],
   "source": [
    "a,b,c=map(int,input().split());d=0\n",
    "c-=b\n",
    "while c>0:c+=b;c-=a;d+=1;\n",
    "print(d)"
   ]
  },
  {
   "cell_type": "code",
   "execution_count": null,
   "id": "d9c605e1",
   "metadata": {},
   "outputs": [],
   "source": [
    "a,b,c=map(int,input().split());\n",
    "d=(c-a)//(a-b)\n",
    "if (a-b)>c-a:\n",
    "    print(\"2\")\n",
    "else:\n",
    "    print(d+1)"
   ]
  },
  {
   "cell_type": "code",
   "execution_count": 40,
   "id": "952f55cd",
   "metadata": {
    "lines_to_next_cell": 2
   },
   "outputs": [
    {
     "name": "stdout",
     "output_type": "stream",
     "text": [
      "5 3 10\n",
      "4\n"
     ]
    }
   ],
   "source": [
    "a,b,c=map(int,input().split());\n",
    "d=(c-a)//(a-b)\n",
    "if (c-a)<(a-b) and a!=c:\n",
    "    print(\"2\")\n",
    "elif a==c:\n",
    "    print(\"1\")\n",
    "elif c%(a-b)==0:\n",
    "    print(d+2)\n",
    "else:\n",
    "    print(d+1)"
   ]
  },
  {
   "cell_type": "code",
   "execution_count": 62,
   "id": "f4e7c3df",
   "metadata": {},
   "outputs": [
    {
     "name": "stdout",
     "output_type": "stream",
     "text": [
      "2 1 5\n",
      "5\n"
     ]
    }
   ],
   "source": [
    "a,b,c=map(int,input().split());\n",
    "if (c-a)<=(a-b) and a!=c:\n",
    "    print(\"2\")\n",
    "elif a==c:\n",
    "    print(\"1\")\n",
    "else:\n",
    "    d=((c-a)//(a-b)+1)\n",
    "    if c-a<((c-a)//(a-b)+1)*(a-b):\n",
    "        d+=1\n",
    "    print(d)"
   ]
  },
  {
   "cell_type": "code",
   "execution_count": 46,
   "id": "c5c37ffb",
   "metadata": {},
   "outputs": [
    {
     "name": "stdout",
     "output_type": "stream",
     "text": [
      "5 1 5\n",
      "0\n"
     ]
    }
   ],
   "source": [
    "a,b,c=map(int,input().split());d=0\n",
    "while c>a*(d+1)-b*d:d+=1\n",
    "print(d+1)"
   ]
  },
  {
   "cell_type": "code",
   "execution_count": 70,
   "id": "865361e0",
   "metadata": {},
   "outputs": [
    {
     "name": "stdout",
     "output_type": "stream",
     "text": [
      "2 1 5\n",
      "4\n"
     ]
    }
   ],
   "source": [
    "a,b,c=map(int,input().split())\n",
    "d=(c-b)//(a-b)\n",
    "if (c-b)%(a-b)!=0:\n",
    "    d+=1\n",
    "print(d)\n",
    "\n",
    "# 이게 정답.. 힘들다"
   ]
  },
  {
   "cell_type": "code",
   "execution_count": null,
   "id": "d67af293",
   "metadata": {},
   "outputs": [],
   "source": []
  }
 ],
 "metadata": {
  "jupytext": {
   "formats": "ipynb,py:light"
  },
  "kernelspec": {
   "display_name": "Python 3",
   "language": "python",
   "name": "python3"
  },
  "language_info": {
   "codemirror_mode": {
    "name": "ipython",
    "version": 3
   },
   "file_extension": ".py",
   "mimetype": "text/x-python",
   "name": "python",
   "nbconvert_exporter": "python",
   "pygments_lexer": "ipython3",
   "version": "3.8.8"
  }
 },
 "nbformat": 4,
 "nbformat_minor": 5
}
