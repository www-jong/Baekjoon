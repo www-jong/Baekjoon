{
 "cells": [
  {
   "cell_type": "code",
   "execution_count": 18,
   "id": "2512c176",
   "metadata": {},
   "outputs": [
    {
     "name": "stdout",
     "output_type": "stream",
     "text": [
      "baekjoon\n",
      "1 0 -1 -1 2 -1 -1 -1 -1 4 3 -1 -1 7 5 -1 -1 -1 -1 -1 -1 -1 -1 -1 -1 -1\n"
     ]
    }
   ],
   "source": [
    "st=list(input())\n",
    "ans=[-1 for i in range(26)]\n",
    "for i,j in enumerate(st):\n",
    "    if ans[ord(j)-97]==-1:\n",
    "        ans[ord(j)-97]=i\n",
    "print(*ans)\n",
    "\n",
    "# print(*map(input().find,map(chr,range(97,123))))\n",
    "# find? 뭐지\n",
    "# str.find(찾을문자) \n",
    "# or str.find(리스트)\n",
    "# 즉,a~z에서 입력된 str의 인덱스를 반환하고, 없다면 -1\n",
    "# 완전 find를 위한 문제였다.\n"
   ]
  }
 ],
 "metadata": {
  "jupytext": {
   "formats": "ipynb,auto:light"
  },
  "kernelspec": {
   "display_name": "Python 3",
   "language": "python",
   "name": "python3"
  },
  "language_info": {
   "codemirror_mode": {
    "name": "ipython",
    "version": 3
   },
   "file_extension": ".py",
   "mimetype": "text/x-python",
   "name": "python",
   "nbconvert_exporter": "python",
   "pygments_lexer": "ipython3",
   "version": "3.8.8"
  }
 },
 "nbformat": 4,
 "nbformat_minor": 5
}
