{
 "cells": [
  {
   "cell_type": "code",
   "execution_count": 9,
   "id": "3116e534",
   "metadata": {},
   "outputs": [
    {
     "name": "stdout",
     "output_type": "stream",
     "text": [
      "1\n",
      "5 50 50 70 80 100\n",
      "40.000%\n"
     ]
    }
   ],
   "source": [
    "n=int(input())\n",
    "for i in range(n):\n",
    "    arr=list(map(int,input().split()))\n",
    "    del arr[0]\n",
    "    tot=0\n",
    "    for j in arr:\n",
    "        tot+=1 if j>(sum(arr)/len(arr)) else 0\n",
    "    print(\"%.3f%%\"%(tot/len(arr)*100))"
   ]
  },
  {
   "cell_type": "code",
   "execution_count": null,
   "id": "75bf941c",
   "metadata": {},
   "outputs": [],
   "source": []
  },
  {
   "cell_type": "code",
   "execution_count": null,
   "id": "66b976ec",
   "metadata": {},
   "outputs": [],
   "source": []
  }
 ],
 "metadata": {
  "jupytext": {
   "formats": "ipynb,py:light"
  },
  "kernelspec": {
   "display_name": "Python 3",
   "language": "python",
   "name": "python3"
  },
  "language_info": {
   "codemirror_mode": {
    "name": "ipython",
    "version": 3
   },
   "file_extension": ".py",
   "mimetype": "text/x-python",
   "name": "python",
   "nbconvert_exporter": "python",
   "pygments_lexer": "ipython3",
   "version": "3.8.8"
  }
 },
 "nbformat": 4,
 "nbformat_minor": 5
}
