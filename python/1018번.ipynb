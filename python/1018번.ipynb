{
 "cells": [
  {
   "cell_type": "code",
   "execution_count": 23,
   "id": "b83310e4",
   "metadata": {},
   "outputs": [
    {
     "name": "stdout",
     "output_type": "stream",
     "text": [
      "10 13\n",
      "BBBBBBBBWBWBW\n",
      "BBBBBBBBBWBWB\n",
      "BBBBBBBBWBWBW\n",
      "BBBBBBBBBWBWB\n",
      "BBBBBBBBWBWBW\n",
      "BBBBBBBBBWBWB\n",
      "BBBBBBBBWBWBW\n",
      "BBBBBBBBBWBWB\n",
      "WWWWWWWWWWBWB\n",
      "WWWWWWWWWWBWB\n",
      "[32, 28, 24, 20, 16, 12, 32, 29, 25, 23, 19, 17, 32, 29, 26, 23, 20, 17]\n"
     ]
    }
   ],
   "source": [
    "m,n=map(int,input().split())\n",
    "w='WB'\n",
    "b='BW'\n",
    "ww=w*25\n",
    "bb=b*25\n",
    "www=[]\n",
    "bbb=[]\n",
    "for i in range(1,26):\n",
    "    if i%2==0:\n",
    "        www+=[ww]\n",
    "        bbb+=[bb]\n",
    "    else:\n",
    "        www+=[bb]\n",
    "        bbb+=[ww]\n",
    "ans=[]\n",
    "for i in range(m):\n",
    "    ans+=[input()]\n",
    "an=[]\n",
    "res1=[]\n",
    "\n",
    "rs1=0\n",
    "rs2=0\n",
    "for ii in range(0,len(ans)-7):\n",
    "    for jj in range(0,len(ans[0])-7):\n",
    "        rs1=0\n",
    "        rs2=0\n",
    "        for i in range(8):\n",
    "            for j in range(8):\n",
    "                if ans[i+ii][j+jj]!=www[i][j]:\n",
    "                    rs1+=1\n",
    "                if ans[i+ii][j+jj]!=bbb[i][j]:\n",
    "                    rs2+=1\n",
    "        res1+=[min(rs1,rs2)]\n",
    "print(min(res1))"
   ]
  }
 ],
 "metadata": {
  "jupytext": {
   "formats": "ipynb,py:light"
  },
  "kernelspec": {
   "display_name": "Python 3",
   "language": "python",
   "name": "python3"
  },
  "language_info": {
   "codemirror_mode": {
    "name": "ipython",
    "version": 3
   },
   "file_extension": ".py",
   "mimetype": "text/x-python",
   "name": "python",
   "nbconvert_exporter": "python",
   "pygments_lexer": "ipython3",
   "version": "3.8.8"
  }
 },
 "nbformat": 4,
 "nbformat_minor": 5
}
