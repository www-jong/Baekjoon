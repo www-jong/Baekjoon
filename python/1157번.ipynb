{
 "cells": [
  {
   "cell_type": "code",
   "execution_count": 20,
   "id": "00f672dd",
   "metadata": {},
   "outputs": [
    {
     "name": "stdout",
     "output_type": "stream",
     "text": [
      "aasd\n",
      "A\n"
     ]
    }
   ],
   "source": [
    "a=list(input().lower())\n",
    "arr=[0 for i in range(26)]\n",
    "check=0\n",
    "for i in a:\n",
    "    arr[ord(i)-97]+=1\n",
    "for j,i in enumerate(arr):\n",
    "    if i>=max(arr):\n",
    "        if j!=arr.index(max(arr)):\n",
    "            check=1\n",
    "            break\n",
    "if check==0:\n",
    "    print(chr(65+arr.index(max(arr))))\n",
    "else:\n",
    "    print(\"?\")\n",
    "\n",
    "        \n",
    "\n",
    "\n",
    "#from statistics import*\n",
    "#try:t=mode(input().upper())\n",
    "#except:t='?'\n",
    "#print(t)\n",
    "#파이썬숏코딩 1위인데.. 모듈을썼다\n",
    "\n",
    "#s=input().upper();m=0\n",
    "#for i in set(s):\n",
    "# c=s.count(i)\n",
    "# if m==c:o='?'\n",
    "# if m<c:m=c;o=i\n",
    "#print(o)\n",
    "# 이건 되게 잘한것같다.\n",
    "# set은 중복이없는것을 잘이용했다"
   ]
  }
 ],
 "metadata": {
  "jupytext": {
   "cell_metadata_filter": "-all",
   "formats": "ipynb,auto:light",
   "notebook_metadata_filter": "-all"
  },
  "kernelspec": {
   "display_name": "Python 3",
   "language": "python",
   "name": "python3"
  },
  "language_info": {
   "codemirror_mode": {
    "name": "ipython",
    "version": 3
   },
   "file_extension": ".py",
   "mimetype": "text/x-python",
   "name": "python",
   "nbconvert_exporter": "python",
   "pygments_lexer": "ipython3",
   "version": "3.8.8"
  }
 },
 "nbformat": 4,
 "nbformat_minor": 5
}
