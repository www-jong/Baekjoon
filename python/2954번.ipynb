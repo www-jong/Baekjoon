{
 "cells": [
  {
   "cell_type": "code",
   "execution_count": 3,
   "id": "b83310e4",
   "metadata": {},
   "outputs": [
    {
     "name": "stdout",
     "output_type": "stream",
     "text": [
      "zepelepenapa papapripikapa\n",
      "zelena paprika\n"
     ]
    }
   ],
   "source": [
    "n=input()\n",
    "n=n.replace(\"apa\",\"ㅁ\").replace(\"epe\",\"ㄷ\").replace(\"ipi\",\"ㅑ\").replace(\"opo\",\"ㅐ\").replace(\"upu\",\"ㅕ\")\n",
    "n=n.replace(\"ㅁ\",\"a\").replace(\"ㄷ\",\"e\").replace(\"ㅑ\",\"i\").replace(\"ㅐ\",\"o\").replace(\"ㅕ\",\"u\")\n",
    "print(n)"
   ]
  }
 ],
 "metadata": {
  "jupytext": {
   "formats": "ipynb,py:light"
  },
  "kernelspec": {
   "display_name": "Python 3",
   "language": "python",
   "name": "python3"
  },
  "language_info": {
   "codemirror_mode": {
    "name": "ipython",
    "version": 3
   },
   "file_extension": ".py",
   "mimetype": "text/x-python",
   "name": "python",
   "nbconvert_exporter": "python",
   "pygments_lexer": "ipython3",
   "version": "3.8.8"
  }
 },
 "nbformat": 4,
 "nbformat_minor": 5
}
