{
 "cells": [
  {
   "cell_type": "code",
   "execution_count": 22,
   "id": "b83310e4",
   "metadata": {},
   "outputs": [
    {
     "name": "stdout",
     "output_type": "stream",
     "text": [
      "eoi\n",
      "Missing\n",
      "eaeo\n",
      "Missing\n",
      "EOI\n"
     ]
    }
   ],
   "source": [
    "while True:\n",
    "    arr=input()\n",
    "    arrr=arr.lower()\n",
    "    if arrr.find('nemo') != -1:\n",
    "        print(\"Found\")\n",
    "    elif \"eoi\" in arrr and \"EOI\" in arr:\n",
    "        break\n",
    "    else:\n",
    "        print(\"Missing\")"
   ]
  }
 ],
 "metadata": {
  "jupytext": {
   "formats": "ipynb,py:light"
  },
  "kernelspec": {
   "display_name": "Python 3",
   "language": "python",
   "name": "python3"
  },
  "language_info": {
   "codemirror_mode": {
    "name": "ipython",
    "version": 3
   },
   "file_extension": ".py",
   "mimetype": "text/x-python",
   "name": "python",
   "nbconvert_exporter": "python",
   "pygments_lexer": "ipython3",
   "version": "3.8.8"
  }
 },
 "nbformat": 4,
 "nbformat_minor": 5
}
