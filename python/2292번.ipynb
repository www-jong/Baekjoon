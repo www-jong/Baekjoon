{
 "cells": [
  {
   "cell_type": "code",
   "execution_count": 8,
   "id": "1aed6d1d",
   "metadata": {},
   "outputs": [
    {
     "name": "stdout",
     "output_type": "stream",
     "text": [
      "61\n",
      "5\n"
     ]
    }
   ],
   "source": [
    "n=int(input())\n",
    "a=2\n",
    "for i in range(100000):\n",
    "    if n==1:\n",
    "        print(n)\n",
    "        break\n",
    "    elif n>=a and n<=a+i*6-1:\n",
    "        print(i+1)\n",
    "        break\n",
    "    a+=i*6\n",
    "    \n",
    "#다른방법\n",
    "#a=int(input());i=0\n",
    "#while a>1:i+=1;a-=6*i;\n",
    "#print(i+1)\n"
   ]
  },
  {
   "cell_type": "code",
   "execution_count": 10,
   "id": "a42d01a0",
   "metadata": {},
   "outputs": [
    {
     "name": "stdout",
     "output_type": "stream",
     "text": [
      "61\n",
      "5\n"
     ]
    }
   ],
   "source": [
    "a=int(input());i=0\n",
    "while a>1:i+=1;a-=6*i;\n",
    "print(i+1)\n"
   ]
  },
  {
   "cell_type": "code",
   "execution_count": null,
   "id": "9cd1aee4",
   "metadata": {
    "lines_to_next_cell": 2
   },
   "outputs": [],
   "source": []
  }
 ],
 "metadata": {
  "jupytext": {
   "formats": "ipynb,py:light"
  },
  "kernelspec": {
   "display_name": "Python 3",
   "language": "python",
   "name": "python3"
  },
  "language_info": {
   "codemirror_mode": {
    "name": "ipython",
    "version": 3
   },
   "file_extension": ".py",
   "mimetype": "text/x-python",
   "name": "python",
   "nbconvert_exporter": "python",
   "pygments_lexer": "ipython3",
   "version": "3.8.8"
  }
 },
 "nbformat": 4,
 "nbformat_minor": 5
}
