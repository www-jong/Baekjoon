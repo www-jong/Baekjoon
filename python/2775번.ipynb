{
 "cells": [
  {
   "cell_type": "code",
   "execution_count": 23,
   "id": "1aed6d1d",
   "metadata": {
    "lines_to_next_cell": 2
   },
   "outputs": [
    {
     "name": "stdout",
     "output_type": "stream",
     "text": [
      "1\n",
      "14\n",
      "14\n",
      "37442160\n"
     ]
    }
   ],
   "source": [
    "arr=[[i for i in range(15)] for i in range(15)]\n",
    "for i in range(1,15):\n",
    "    for j in range(1,15):\n",
    "        arr[j][i]=arr[j][i-1]+arr[j-1][i]\n",
    "for i in range(int(input())):\n",
    "    a=int(input())\n",
    "    b=int(input())\n",
    "    print(arr[a][b])"
   ]
  },
  {
   "cell_type": "code",
   "execution_count": null,
   "id": "b1c48216",
   "metadata": {},
   "outputs": [],
   "source": []
  }
 ],
 "metadata": {
  "jupytext": {
   "encoding": "# -*- coding: utf-8 -*-",
   "formats": "ipynb,py:light"
  },
  "kernelspec": {
   "display_name": "Python 3",
   "language": "python",
   "name": "python3"
  },
  "language_info": {
   "codemirror_mode": {
    "name": "ipython",
    "version": 3
   },
   "file_extension": ".py",
   "mimetype": "text/x-python",
   "name": "python",
   "nbconvert_exporter": "python",
   "pygments_lexer": "ipython3",
   "version": "3.8.8"
  }
 },
 "nbformat": 4,
 "nbformat_minor": 5
}
