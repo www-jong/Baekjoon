{
 "cells": [
  {
   "cell_type": "code",
   "execution_count": 4,
   "id": "1aed6d1d",
   "metadata": {},
   "outputs": [
    {
     "name": "stdout",
     "output_type": "stream",
     "text": [
      "3 4\n",
      "1 2 1\n",
      "3 2 1\n",
      "1 3 5\n",
      "2 3 2\n",
      "[[0, 0, 0, 0], [0, 0, 1, 5], [0, 0, 0, 2], [0, 0, 1, 0]]\n"
     ]
    }
   ],
   "source": [
    "V,E=map(int,input().split())\n",
    "\n",
    "for i in range(E):\n",
    "    arr=[[100000000 for i in range(V+1)] for j in range(V+1)]\n",
    "    a,b,c=map(int,input().split())\n",
    "    if arr[a][b]!=0:  # 이미 길이 있다면 최소값으로\n",
    "        arr[a][b]=min(c,arr[a][b])\n",
    "    else: #길이없다면 그냥 넣기\n",
    "    arr[a][b]=c\n",
    "\n",
    "for i in range()\n",
    "print(arr)"
   ]
  },
  {
   "cell_type": "code",
   "execution_count": null,
   "id": "a42d01a0",
   "metadata": {},
   "outputs": [],
   "source": []
  },
  {
   "cell_type": "code",
   "execution_count": null,
   "id": "9cd1aee4",
   "metadata": {
    "lines_to_next_cell": 2
   },
   "outputs": [],
   "source": []
  }
 ],
 "metadata": {
  "jupytext": {
   "formats": "ipynb,py:light"
  },
  "kernelspec": {
   "display_name": "Python 3",
   "language": "python",
   "name": "python3"
  },
  "language_info": {
   "codemirror_mode": {
    "name": "ipython",
    "version": 3
   },
   "file_extension": ".py",
   "mimetype": "text/x-python",
   "name": "python",
   "nbconvert_exporter": "python",
   "pygments_lexer": "ipython3",
   "version": "3.8.8"
  }
 },
 "nbformat": 4,
 "nbformat_minor": 5
}
