{
 "cells": [
  {
   "cell_type": "code",
   "execution_count": 4,
   "source": [
    "V,E=map(int,input().split())\r\n",
    "\r\n",
    "for i in range(E):\r\n",
    "    \r\n",
    "for i in range()\r\n",
    "print(arr)"
   ],
   "outputs": [
    {
     "output_type": "stream",
     "name": "stdout",
     "text": [
      "3 4\n",
      "1 2 1\n",
      "3 2 1\n",
      "1 3 5\n",
      "2 3 2\n",
      "[[0, 0, 0, 0], [0, 0, 1, 5], [0, 0, 0, 2], [0, 0, 1, 0]]\n"
     ]
    }
   ],
   "metadata": {}
  },
  {
   "cell_type": "code",
   "execution_count": null,
   "source": [],
   "outputs": [],
   "metadata": {}
  },
  {
   "cell_type": "code",
   "execution_count": null,
   "source": [],
   "outputs": [],
   "metadata": {
    "lines_to_next_cell": 2
   }
  }
 ],
 "metadata": {
  "jupytext": {
   "formats": "ipynb,py:light"
  },
  "kernelspec": {
   "display_name": "Python 3",
   "language": "python",
   "name": "python3"
  },
  "language_info": {
   "codemirror_mode": {
    "name": "ipython",
    "version": 3
   },
   "file_extension": ".py",
   "mimetype": "text/x-python",
   "name": "python",
   "nbconvert_exporter": "python",
   "pygments_lexer": "ipython3",
   "version": "3.8.8"
  }
 },
 "nbformat": 4,
 "nbformat_minor": 5
}