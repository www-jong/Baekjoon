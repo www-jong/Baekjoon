{
 "cells": [
  {
   "cell_type": "code",
   "execution_count": 3,
   "id": "4eb86375",
   "metadata": {},
   "outputs": [
    {
     "name": "stdout",
     "output_type": "stream",
     "text": [
      "a dsd fd hg\n",
      "4\n"
     ]
    }
   ],
   "source": [
    "print(len(list(input().split())))\n",
    "\n",
    "# list를 쓸필요가 없었다! "
   ]
  },
  {
   "cell_type": "code",
   "execution_count": null,
   "id": "aa36b67c",
   "metadata": {},
   "outputs": [],
   "source": []
  },
  {
   "cell_type": "code",
   "execution_count": null,
   "id": "0f35a1f4",
   "metadata": {},
   "outputs": [],
   "source": []
  }
 ],
 "metadata": {
  "jupytext": {
   "formats": "ipynb,auto:light"
  },
  "kernelspec": {
   "display_name": "Python 3",
   "language": "python",
   "name": "python3"
  },
  "language_info": {
   "codemirror_mode": {
    "name": "ipython",
    "version": 3
   },
   "file_extension": ".py",
   "mimetype": "text/x-python",
   "name": "python",
   "nbconvert_exporter": "python",
   "pygments_lexer": "ipython3",
   "version": "3.8.8"
  }
 },
 "nbformat": 4,
 "nbformat_minor": 5
}
