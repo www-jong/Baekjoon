{
 "cells": [
  {
   "cell_type": "code",
   "execution_count": 8,
   "id": "1aed6d1d",
   "metadata": {},
   "outputs": [
    {
     "name": "stdout",
     "output_type": "stream",
     "text": [
      "4\n",
      "aba\n",
      "abab\n",
      "abcabc\n",
      "a\n",
      "1\n"
     ]
    }
   ],
   "source": [
    "g=0\n",
    "count=0\n",
    "for i in range(int(input())):\n",
    "    g=0\n",
    "    strr=list(input())\n",
    "    arr=[0 for j in range(26)]\n",
    "    arr[ord(strr[0])-97]=1\n",
    "    for j in range(1,len(strr)):\n",
    "        if arr[ord(strr[j])-97]==1 and strr[j]!=strr[j-1]:\n",
    "            arr[ord(strr[j])-97]=0  # 이미, 나온단어인데 연속되지않다면\n",
    "            g=1\n",
    "        if arr[ord(strr[j])-97]==0: #한번도 안나온 단어라면\n",
    "            arr[ord(strr[j])-97]=1\n",
    "    if g==0:count+=1\n",
    "print(count)\n",
    "\n",
    "\n",
    "#숏코딩\n",
    "#print(sum([*x]==sorted(x,key=x.find)for x in open(0))-1)\n",
    "\n",
    "#r=0;exec(\"s=input();r+=all(s.find(c*s.count(c))+1for c in s);\"*int(input()));print(r)\n",
    "\n",
    "#res=0\n",
    "#for i in range(int(input())):\n",
    "#    s=input()\n",
    "#    res+=list(s) == sorted(s,key=s.find)\n",
    "#print(res)\n",
    "\n",
    "# sorted(s,key=s.find) 는 요약하자면\n",
    "# 기존순서를 유지한채로 정렬하는걸로 보인다.\n",
    "# aabb 같은경우 그대로, aabba같은경우 정렬당한다. 그래서 같지않게되면res가 +=되지않는다"
   ]
  },
  {
   "cell_type": "code",
   "execution_count": null,
   "id": "a42d01a0",
   "metadata": {},
   "outputs": [],
   "source": []
  },
  {
   "cell_type": "code",
   "execution_count": null,
   "id": "9cd1aee4",
   "metadata": {
    "lines_to_next_cell": 2
   },
   "outputs": [],
   "source": []
  }
 ],
 "metadata": {
  "jupytext": {
   "formats": "ipynb,py:light"
  },
  "kernelspec": {
   "display_name": "Python 3",
   "language": "python",
   "name": "python3"
  },
  "language_info": {
   "codemirror_mode": {
    "name": "ipython",
    "version": 3
   },
   "file_extension": ".py",
   "mimetype": "text/x-python",
   "name": "python",
   "nbconvert_exporter": "python",
   "pygments_lexer": "ipython3",
   "version": "3.8.8"
  }
 },
 "nbformat": 4,
 "nbformat_minor": 5
}
