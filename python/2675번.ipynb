{
 "cells": [
  {
   "cell_type": "code",
   "execution_count": 7,
   "id": "364dc69e",
   "metadata": {},
   "outputs": [
    {
     "name": "stdout",
     "output_type": "stream",
     "text": [
      "2\n",
      "3 ABC\n",
      "AAABBBCCC\n",
      "5 /HTP\n",
      "/////HHHHHTTTTTPPPPP\n"
     ]
    }
   ],
   "source": [
    "for i in range(int(input())):\n",
    "    a,b=input().split()\n",
    "    c=\"\"\n",
    "    for j in list(b):\n",
    "        c+=j*int(a)\n",
    "    print(c)\n",
    "    \n",
    "#  for r,_,*s,_ in[*open(0)][1:]:print(''.join(c*int(r)for c in s))\n",
    "# 넘어가자..\n"
   ]
  },
  {
   "cell_type": "code",
   "execution_count": null,
   "id": "8593839b",
   "metadata": {},
   "outputs": [],
   "source": []
  }
 ],
 "metadata": {
  "jupytext": {
   "formats": "ipynb,auto:light"
  },
  "kernelspec": {
   "display_name": "Python 3",
   "language": "python",
   "name": "python3"
  },
  "language_info": {
   "codemirror_mode": {
    "name": "ipython",
    "version": 3
   },
   "file_extension": ".py",
   "mimetype": "text/x-python",
   "name": "python",
   "nbconvert_exporter": "python",
   "pygments_lexer": "ipython3",
   "version": "3.8.8"
  }
 },
 "nbformat": 4,
 "nbformat_minor": 5
}
