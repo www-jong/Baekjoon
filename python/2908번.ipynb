{
 "cells": [
  {
   "cell_type": "code",
   "execution_count": 20,
   "id": "1aed6d1d",
   "metadata": {},
   "outputs": [
    {
     "name": "stdout",
     "output_type": "stream",
     "text": [
      "123 456\n",
      "654\n"
     ]
    }
   ],
   "source": [
    "a,b=map(int,input().split())\n",
    "a=list(reversed(list(str(a))))\n",
    "b=list(reversed(list(str(b))))\n",
    "a=int(''.join(a))\n",
    "b=int(''.join(b))\n",
    "print(max(a,b))\n",
    "\n",
    "#숏코딩예제들\n",
    "#print(max(input()[::-1].split()))\n",
    "#이런...방법이\n",
    "#a b 입력했을때, a를 뒤집고, b를 뒤집고 분리해서..?\n",
    "#abc def 를 fed cba 로 뒤집고, 분리해서 크기비교.."
   ]
  }
 ],
 "metadata": {
  "jupytext": {
   "formats": "ipynb,py:light"
  },
  "kernelspec": {
   "display_name": "Python 3",
   "language": "python",
   "name": "python3"
  },
  "language_info": {
   "codemirror_mode": {
    "name": "ipython",
    "version": 3
   },
   "file_extension": ".py",
   "mimetype": "text/x-python",
   "name": "python",
   "nbconvert_exporter": "python",
   "pygments_lexer": "ipython3",
   "version": "3.8.8"
  }
 },
 "nbformat": 4,
 "nbformat_minor": 5
}
