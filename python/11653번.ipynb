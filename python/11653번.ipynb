{
 "cells": [
  {
   "cell_type": "code",
   "execution_count": null,
   "id": "1aed6d1d",
   "metadata": {
    "lines_to_next_cell": 2
   },
   "outputs": [
    {
     "name": "stdout",
     "output_type": "stream",
     "text": [
      "99000020\n",
      "2\n",
      "2\n",
      "5\n",
      "7\n",
      "707143\n"
     ]
    }
   ],
   "source": [
    "n=int(input())\n",
    "a=2\n",
    "while True:\n",
    "    if n%a==0:\n",
    "        print(a)\n",
    "        n=n/a\n",
    "    elif n==1:\n",
    "        break\n",
    "    else:\n",
    "        a+=1"
   ]
  },
  {
   "cell_type": "markdown",
   "id": "6ce8f352",
   "metadata": {},
   "source": [
    "# "
   ]
  }
 ],
 "metadata": {
  "jupytext": {
   "encoding": "# -*- coding: utf-8 -*-",
   "formats": "ipynb,py:light"
  },
  "kernelspec": {
   "display_name": "Python 3",
   "language": "python",
   "name": "python3"
  },
  "language_info": {
   "codemirror_mode": {
    "name": "ipython",
    "version": 3
   },
   "file_extension": ".py",
   "mimetype": "text/x-python",
   "name": "python",
   "nbconvert_exporter": "python",
   "pygments_lexer": "ipython3",
   "version": "3.8.8"
  }
 },
 "nbformat": 4,
 "nbformat_minor": 5
}
