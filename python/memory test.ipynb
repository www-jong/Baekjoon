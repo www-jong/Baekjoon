{
 "cells": [
  {
   "cell_type": "code",
   "execution_count": 17,
   "id": "aeec0298",
   "metadata": {},
   "outputs": [
    {
     "name": "stdout",
     "output_type": "stream",
     "text": [
      "9\n",
      " 395.92188\n",
      "*********\n",
      "* ** ** *\n",
      "*********\n",
      "***   ***\n",
      "* *   * *\n",
      "***   ***\n",
      "*********\n",
      "* ** ** *\n",
      "*********\n"
     ]
    }
   ],
   "source": [
    "import psutil\n",
    "n=int(input())\n",
    "def star(n):\n",
    "    if n==3:\n",
    "        return [['*','*','*'],['*',' ','*'],['*','*','*']]\n",
    "    x=[[0]*n for i in range(n)]\n",
    "    a=star(n//3)\n",
    "    for i in range(n):\n",
    "        for j in range(n):\n",
    "            if i//(n//3)==j//(n//3)==1:\n",
    "                x[i][j]=' '\n",
    "            else:\n",
    "                x[i][j]=a[i%(n//3)][j%(n//3)]\n",
    "    return x\n",
    "a=star(n)\n",
    "p=psutil.Process()\n",
    "print(\"%10.5f\"%(p.memory_info().rss/2**20))\n",
    "for i in range(n):\n",
    "    for j in range(n):\n",
    "        print(a[i][j],end='')\n",
    "    print(end='\\n')\n",
    "\n",
    "## 이것도 되긴되는데.. 메모리초과"
   ]
  },
  {
   "cell_type": "markdown",
   "id": "a4f761d5",
   "metadata": {},
   "source": [
    "n=int(input())\n",
    "def star(n):\n",
    "    if n==3:\n",
    "        return [['*','*','*'],['*',' ','*'],['*','*','*']]\n",
    "    x=[[0]*n for i in range(n)]\n",
    "    a=star(n//3)\n",
    "    for i in range(n):\n",
    "        for j in range(n):\n",
    "            if i//(n//3)==j//(n//3)==1:\n",
    "                x[i][j]=' '\n",
    "            else:\n",
    "                x[i][j]=a[i%(n//3)][j%(n//3)]\n",
    "    return x\n",
    "a=star(n)\n",
    "for i in range(n):\n",
    "    for j in range(n):\n",
    "        print(a[i][j],end='')\n",
    "    print(end='\\n')"
   ]
  }
 ],
 "metadata": {
  "jupytext": {
   "formats": "ipynb,auto:light"
  },
  "kernelspec": {
   "display_name": "Python 3",
   "language": "python",
   "name": "python3"
  },
  "language_info": {
   "codemirror_mode": {
    "name": "ipython",
    "version": 3
   },
   "file_extension": ".py",
   "mimetype": "text/x-python",
   "name": "python",
   "nbconvert_exporter": "python",
   "pygments_lexer": "ipython3",
   "version": "3.8.8"
  }
 },
 "nbformat": 4,
 "nbformat_minor": 5
}
