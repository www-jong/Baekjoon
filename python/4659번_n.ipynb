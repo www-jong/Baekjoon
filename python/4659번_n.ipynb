{
 "cells": [
  {
   "cell_type": "code",
   "execution_count": null,
   "id": "55e253dd",
   "metadata": {},
   "outputs": [],
   "source": [
    "while n:=input()!=\"end\":\n",
    "        "
   ]
  },
  {
   "cell_type": "code",
   "execution_count": 16,
   "id": "0a39890e",
   "metadata": {},
   "outputs": [
    {
     "name": "stdout",
     "output_type": "stream",
     "text": [
      "aasdsadasdsadasdsadisai\n",
      "10\n"
     ]
    }
   ],
   "source": [
    "import re\n",
    "arrr=input()\n",
    "a=len(re.findall('a|e|i|o|u',arrr))\n",
    "b=len(re.findall('([^a|e|i|o|u]){3}|([a|e|i|o|u]{3})',arrr))\n",
    "c=len(re.findall('([a-df-np-z])'))"
   ]
  },
  {
   "cell_type": "code",
   "execution_count": null,
   "id": "4c231d91",
   "metadata": {},
   "outputs": [],
   "source": []
  }
 ],
 "metadata": {
  "jupytext": {
   "formats": "ipynb,py:light"
  },
  "kernelspec": {
   "display_name": "Python 3",
   "language": "python",
   "name": "python3"
  },
  "language_info": {
   "codemirror_mode": {
    "name": "ipython",
    "version": 3
   },
   "file_extension": ".py",
   "mimetype": "text/x-python",
   "name": "python",
   "nbconvert_exporter": "python",
   "pygments_lexer": "ipython3",
   "version": "3.8.8"
  }
 },
 "nbformat": 4,
 "nbformat_minor": 5
}
