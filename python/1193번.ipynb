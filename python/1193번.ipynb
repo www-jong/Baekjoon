{
 "cells": [
  {
   "cell_type": "code",
   "execution_count": 11,
   "id": "1aed6d1d",
   "metadata": {},
   "outputs": [
    {
     "name": "stdout",
     "output_type": "stream",
     "text": [
      "9\n",
      "3/2\n"
     ]
    }
   ],
   "source": [
    "n=int(input());a=0;i=0\n",
    "while n>0:a+=1;n-=a;i+=1; \n",
    "if i%2==0:\n",
    "    print(\"%d/%d\"%((i+n),(1-n)))\n",
    "else:\n",
    "    print(\"%d/%d\"%((1-n),(i+n)))"
   ]
  },
  {
   "cell_type": "code",
   "execution_count": null,
   "id": "a42d01a0",
   "metadata": {},
   "outputs": [],
   "source": []
  },
  {
   "cell_type": "code",
   "execution_count": null,
   "id": "9cd1aee4",
   "metadata": {
    "lines_to_next_cell": 2
   },
   "outputs": [],
   "source": []
  }
 ],
 "metadata": {
  "jupytext": {
   "formats": "ipynb,py:light"
  },
  "kernelspec": {
   "display_name": "Python 3",
   "language": "python",
   "name": "python3"
  },
  "language_info": {
   "codemirror_mode": {
    "name": "ipython",
    "version": 3
   },
   "file_extension": ".py",
   "mimetype": "text/x-python",
   "name": "python",
   "nbconvert_exporter": "python",
   "pygments_lexer": "ipython3",
   "version": "3.8.8"
  }
 },
 "nbformat": 4,
 "nbformat_minor": 5
}
