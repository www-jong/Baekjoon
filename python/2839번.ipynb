{
 "cells": [
  {
   "cell_type": "code",
   "execution_count": 60,
   "id": "1aed6d1d",
   "metadata": {
    "lines_to_next_cell": 2
   },
   "outputs": [
    {
     "name": "stdout",
     "output_type": "stream",
     "text": [
      "4\n",
      "-1\n"
     ]
    }
   ],
   "source": [
    "n=int(input())\n",
    "arr=[[0 for j in range(n//3+1)]for i in range(n//3+1)]\n",
    "narr=[]\n",
    "\n",
    "for i in range(n//3+1):\n",
    "    for j in range(n//3+1):\n",
    "        arr[i][j]=n-3*i-5*j\n",
    "for i in range(n//3+1):\n",
    "    try:\n",
    "        narr.append(arr[i].index(0)+i)\n",
    "    except:\n",
    "        pass\n",
    "if len(narr)==0:\n",
    "    narr.append(-1)\n",
    "print(min(narr))\n"
   ]
  },
  {
   "cell_type": "code",
   "execution_count": null,
   "id": "912a7626",
   "metadata": {},
   "outputs": [],
   "source": [
    "# 숏코딩\n",
    "n=int(input())\n",
    "print(-(n in[4,7])or n-2*n//5*2)\n",
    "\n",
    "# 분발하자.. 메모리/시간이며/코드량까지 압도적이네"
   ]
  }
 ],
 "metadata": {
  "jupytext": {
   "encoding": "# -*- coding: utf-8 -*-",
   "formats": "ipynb,py:light"
  },
  "kernelspec": {
   "display_name": "Python 3",
   "language": "python",
   "name": "python3"
  },
  "language_info": {
   "codemirror_mode": {
    "name": "ipython",
    "version": 3
   },
   "file_extension": ".py",
   "mimetype": "text/x-python",
   "name": "python",
   "nbconvert_exporter": "python",
   "pygments_lexer": "ipython3",
   "version": "3.8.8"
  }
 },
 "nbformat": 4,
 "nbformat_minor": 5
}
