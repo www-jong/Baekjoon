{
 "cells": [
  {
   "cell_type": "code",
   "execution_count": 58,
   "id": "b83310e4",
   "metadata": {},
   "outputs": [
    {
     "name": "stdout",
     "output_type": "stream",
     "text": [
      "2\n",
      "0\n"
     ]
    }
   ],
   "source": [
    "n=int(input())\n",
    "s=5\n",
    "ans=0\n",
    "if n<=9:\n",
    "    print(\"0\")\n",
    "else:        \n",
    "    while n!=ans:\n",
    "        ans=s+sum([int(i) for i in str(s)])\n",
    "        s+=1\n",
    "        if n<=s:\n",
    "            print(\"0\")\n",
    "            break\n",
    "        elif n==ans:\n",
    "            print(s-1)\n",
    "            break\n",
    "#잘되는거같은데 자꾸 틀렸댄다 ㅠ\n",
    "# 해결."
   ]
  },
  {
   "cell_type": "code",
   "execution_count": 100,
   "id": "a9c42aed",
   "metadata": {},
   "outputs": [
    {
     "name": "stdout",
     "output_type": "stream",
     "text": [
      "2\n",
      "1\n"
     ]
    }
   ],
   "source": [
    "n=int(input())\n",
    "n_arr=list(map(int,str(n)))\n",
    "if n<18:\n",
    "    m=n-9*(len(n_arr)-1)\n",
    "elif n<1000:\n",
    "    m=n-9*(len(n_arr))\n",
    "else:\n",
    "    m=n-1000\n",
    "ch=0\n",
    "if n<=9:\n",
    "    if n%2==0:\n",
    "        print(int(n/2))\n",
    "        ch=1\n",
    "    else:\n",
    "        ch=0\n",
    "else:\n",
    "    for i in range(m,n+1):\n",
    "        m_s=i+sum([int(j) for j in str(i)])\n",
    "        if n==m_s:\n",
    "            print(i)\n",
    "            ch=1\n",
    "            break\n",
    "if ch==0:\n",
    "    print(\"0\")\n",
    "    "
   ]
  },
  {
   "cell_type": "code",
   "execution_count": null,
   "id": "4298d925",
   "metadata": {},
   "outputs": [],
   "source": []
  }
 ],
 "metadata": {
  "jupytext": {
   "formats": "ipynb,py:light"
  },
  "kernelspec": {
   "display_name": "Python 3",
   "language": "python",
   "name": "python3"
  },
  "language_info": {
   "codemirror_mode": {
    "name": "ipython",
    "version": 3
   },
   "file_extension": ".py",
   "mimetype": "text/x-python",
   "name": "python",
   "nbconvert_exporter": "python",
   "pygments_lexer": "ipython3",
   "version": "3.8.8"
  }
 },
 "nbformat": 4,
 "nbformat_minor": 5
}
