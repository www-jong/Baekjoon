{
 "cells": [
  {
   "cell_type": "code",
   "execution_count": 7,
   "id": "55259460",
   "metadata": {},
   "outputs": [
    {
     "name": "stdout",
     "output_type": "stream",
     "text": [
      "2\n",
      "OOXOXXO\n",
      "5\n",
      "OOOOO\n",
      "15\n"
     ]
    }
   ],
   "source": [
    "n=int(input())\n",
    "for i in range(n):\n",
    "    a=str(input())\n",
    "    point=0\n",
    "    arr=[]\n",
    "    for j in a:\n",
    "        if len(arr)==0:\n",
    "            if j=='O':\n",
    "                arr.append(1)\n",
    "            else:arr.append(0)\n",
    "        elif j=='O':\n",
    "            arr.append(arr[-1]+1)\n",
    "        else:arr.append(0)\n",
    "    print(sum(arr))\n",
    "            \n",
    "            "
   ]
  },
  {
   "cell_type": "code",
   "execution_count": null,
   "id": "19791645",
   "metadata": {},
   "outputs": [],
   "source": []
  }
 ],
 "metadata": {
  "jupytext": {
   "formats": "ipynb,auto:light"
  },
  "kernelspec": {
   "display_name": "Python 3",
   "language": "python",
   "name": "python3"
  },
  "language_info": {
   "codemirror_mode": {
    "name": "ipython",
    "version": 3
   },
   "file_extension": ".py",
   "mimetype": "text/x-python",
   "name": "python",
   "nbconvert_exporter": "python",
   "pygments_lexer": "ipython3",
   "version": "3.8.8"
  }
 },
 "nbformat": 4,
 "nbformat_minor": 5
}
