{
 "cells": [
  {
   "cell_type": "code",
   "execution_count": 34,
   "id": "b83310e4",
   "metadata": {},
   "outputs": [
    {
     "name": "stdout",
     "output_type": "stream",
     "text": [
      "2 300\n",
      "1 2 3 4 5\n",
      "12\n"
     ]
    }
   ],
   "source": [
    "n,m=map(int,input().split())\n",
    "ar=list(map(int,input().split()))\n",
    "ar.sort()\n",
    "n=len(ar)\n",
    "arr=[]\n",
    "while ar[n-1]<m:\n",
    "    if ar[n-1]>=m:\n",
    "        del ar[n-1]\n",
    "    else: \n",
    "        n==0\n",
    "        break\n",
    "    n-=1\n",
    "for a in range(len(ar)-2):\n",
    "    for b in range(a+1,len(ar)-1):\n",
    "        if ar[a]+ar[b]>m:\n",
    "            break\n",
    "        for c in range(b+1,len(ar)):\n",
    "            s=ar[a]+ar[b]+ar[c]\n",
    "            if s>m:\n",
    "                break\n",
    "            elif s<=m:\n",
    "                arr.append(s)\n",
    "print(max(arr))\n",
    "\n",
    "                \n",
    "    "
   ]
  },
  {
   "cell_type": "code",
   "execution_count": 36,
   "id": "a42dd92a",
   "metadata": {},
   "outputs": [
    {
     "name": "stdout",
     "output_type": "stream",
     "text": [
      "5 300\n",
      "1 2 3 4 5\n",
      "12\n"
     ]
    }
   ],
   "source": [
    "#숏코딩\n",
    "[N,M],c=eval('map(int,input().split()),'*2)\n",
    "from itertools import*;print(max(i for i in map(sum,combinations(c,3))if i<=M))"
   ]
  },
  {
   "cell_type": "code",
   "execution_count": null,
   "id": "517f441f",
   "metadata": {},
   "outputs": [],
   "source": []
  }
 ],
 "metadata": {
  "jupytext": {
   "formats": "ipynb,py:light"
  },
  "kernelspec": {
   "display_name": "Python 3",
   "language": "python",
   "name": "python3"
  },
  "language_info": {
   "codemirror_mode": {
    "name": "ipython",
    "version": 3
   },
   "file_extension": ".py",
   "mimetype": "text/x-python",
   "name": "python",
   "nbconvert_exporter": "python",
   "pygments_lexer": "ipython3",
   "version": "3.8.8"
  }
 },
 "nbformat": 4,
 "nbformat_minor": 5
}
